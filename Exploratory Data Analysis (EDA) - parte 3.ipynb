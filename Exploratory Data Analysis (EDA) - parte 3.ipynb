{
 "cells": [
  {
   "cell_type": "code",
   "execution_count": 1,
   "id": "b1f31d23",
   "metadata": {},
   "outputs": [],
   "source": [
    "import pandas as pd\n",
    "import matplotlib.pyplot as plt\n",
    "import seaborn as sns"
   ]
  },
  {
   "cell_type": "code",
   "execution_count": 10,
   "id": "8df63727",
   "metadata": {},
   "outputs": [],
   "source": [
    "df = pd.read_excel('datasets/AdventureWorks.xlsx')"
   ]
  },
  {
   "cell_type": "code",
   "execution_count": 11,
   "id": "e685dbf1",
   "metadata": {},
   "outputs": [
    {
     "data": {
      "text/html": [
       "<div>\n",
       "<style scoped>\n",
       "    .dataframe tbody tr th:only-of-type {\n",
       "        vertical-align: middle;\n",
       "    }\n",
       "\n",
       "    .dataframe tbody tr th {\n",
       "        vertical-align: top;\n",
       "    }\n",
       "\n",
       "    .dataframe thead th {\n",
       "        text-align: right;\n",
       "    }\n",
       "</style>\n",
       "<table border=\"1\" class=\"dataframe\">\n",
       "  <thead>\n",
       "    <tr style=\"text-align: right;\">\n",
       "      <th></th>\n",
       "      <th>Data Venda</th>\n",
       "      <th>Data Envio</th>\n",
       "      <th>ID Loja</th>\n",
       "      <th>ID Produto</th>\n",
       "      <th>ID Cliente</th>\n",
       "      <th>No. Venda</th>\n",
       "      <th>Custo Unitário</th>\n",
       "      <th>Preço Unitário</th>\n",
       "      <th>Quantidade</th>\n",
       "      <th>Valor Desconto</th>\n",
       "      <th>Valor Venda</th>\n",
       "      <th>Produto</th>\n",
       "      <th>Fabricante</th>\n",
       "      <th>Marca</th>\n",
       "      <th>Classe</th>\n",
       "      <th>Cor</th>\n",
       "    </tr>\n",
       "  </thead>\n",
       "  <tbody>\n",
       "    <tr>\n",
       "      <th>0</th>\n",
       "      <td>2008-05-09</td>\n",
       "      <td>2008-05-29</td>\n",
       "      <td>199</td>\n",
       "      <td>384</td>\n",
       "      <td>18839</td>\n",
       "      <td>200805093CS607</td>\n",
       "      <td>348.58</td>\n",
       "      <td>758.0</td>\n",
       "      <td>6</td>\n",
       "      <td>0.0</td>\n",
       "      <td>4548.0</td>\n",
       "      <td>Adventure Works Laptop15.4W M1548 Red</td>\n",
       "      <td>Adventure Works</td>\n",
       "      <td>Adventure Works</td>\n",
       "      <td>Regular</td>\n",
       "      <td>Red</td>\n",
       "    </tr>\n",
       "    <tr>\n",
       "      <th>1</th>\n",
       "      <td>2008-05-12</td>\n",
       "      <td>2008-05-17</td>\n",
       "      <td>306</td>\n",
       "      <td>384</td>\n",
       "      <td>19051</td>\n",
       "      <td>200805123CS567</td>\n",
       "      <td>348.58</td>\n",
       "      <td>758.0</td>\n",
       "      <td>6</td>\n",
       "      <td>0.0</td>\n",
       "      <td>4548.0</td>\n",
       "      <td>Adventure Works Laptop15.4W M1548 Red</td>\n",
       "      <td>Adventure Works</td>\n",
       "      <td>Adventure Works</td>\n",
       "      <td>Regular</td>\n",
       "      <td>Red</td>\n",
       "    </tr>\n",
       "    <tr>\n",
       "      <th>2</th>\n",
       "      <td>2008-05-14</td>\n",
       "      <td>2008-05-20</td>\n",
       "      <td>306</td>\n",
       "      <td>384</td>\n",
       "      <td>19052</td>\n",
       "      <td>200805143CS576</td>\n",
       "      <td>348.58</td>\n",
       "      <td>758.0</td>\n",
       "      <td>6</td>\n",
       "      <td>0.0</td>\n",
       "      <td>4548.0</td>\n",
       "      <td>Adventure Works Laptop15.4W M1548 Red</td>\n",
       "      <td>Adventure Works</td>\n",
       "      <td>Adventure Works</td>\n",
       "      <td>Regular</td>\n",
       "      <td>Red</td>\n",
       "    </tr>\n",
       "    <tr>\n",
       "      <th>3</th>\n",
       "      <td>2008-05-21</td>\n",
       "      <td>2008-05-27</td>\n",
       "      <td>306</td>\n",
       "      <td>384</td>\n",
       "      <td>19052</td>\n",
       "      <td>200805213CS576</td>\n",
       "      <td>348.58</td>\n",
       "      <td>758.0</td>\n",
       "      <td>6</td>\n",
       "      <td>0.0</td>\n",
       "      <td>4548.0</td>\n",
       "      <td>Adventure Works Laptop15.4W M1548 Red</td>\n",
       "      <td>Adventure Works</td>\n",
       "      <td>Adventure Works</td>\n",
       "      <td>Regular</td>\n",
       "      <td>Red</td>\n",
       "    </tr>\n",
       "    <tr>\n",
       "      <th>4</th>\n",
       "      <td>2008-06-20</td>\n",
       "      <td>2008-06-27</td>\n",
       "      <td>306</td>\n",
       "      <td>384</td>\n",
       "      <td>19053</td>\n",
       "      <td>200806203CS586</td>\n",
       "      <td>348.58</td>\n",
       "      <td>758.0</td>\n",
       "      <td>6</td>\n",
       "      <td>0.0</td>\n",
       "      <td>4548.0</td>\n",
       "      <td>Adventure Works Laptop15.4W M1548 Red</td>\n",
       "      <td>Adventure Works</td>\n",
       "      <td>Adventure Works</td>\n",
       "      <td>Regular</td>\n",
       "      <td>Red</td>\n",
       "    </tr>\n",
       "  </tbody>\n",
       "</table>\n",
       "</div>"
      ],
      "text/plain": [
       "  Data Venda Data Envio  ID Loja  ID Produto  ID Cliente       No. Venda  \\\n",
       "0 2008-05-09 2008-05-29      199         384       18839  200805093CS607   \n",
       "1 2008-05-12 2008-05-17      306         384       19051  200805123CS567   \n",
       "2 2008-05-14 2008-05-20      306         384       19052  200805143CS576   \n",
       "3 2008-05-21 2008-05-27      306         384       19052  200805213CS576   \n",
       "4 2008-06-20 2008-06-27      306         384       19053  200806203CS586   \n",
       "\n",
       "   Custo Unitário  Preço Unitário  Quantidade  Valor Desconto  Valor Venda  \\\n",
       "0          348.58           758.0           6             0.0       4548.0   \n",
       "1          348.58           758.0           6             0.0       4548.0   \n",
       "2          348.58           758.0           6             0.0       4548.0   \n",
       "3          348.58           758.0           6             0.0       4548.0   \n",
       "4          348.58           758.0           6             0.0       4548.0   \n",
       "\n",
       "                                 Produto       Fabricante            Marca  \\\n",
       "0  Adventure Works Laptop15.4W M1548 Red  Adventure Works  Adventure Works   \n",
       "1  Adventure Works Laptop15.4W M1548 Red  Adventure Works  Adventure Works   \n",
       "2  Adventure Works Laptop15.4W M1548 Red  Adventure Works  Adventure Works   \n",
       "3  Adventure Works Laptop15.4W M1548 Red  Adventure Works  Adventure Works   \n",
       "4  Adventure Works Laptop15.4W M1548 Red  Adventure Works  Adventure Works   \n",
       "\n",
       "    Classe  Cor  \n",
       "0  Regular  Red  \n",
       "1  Regular  Red  \n",
       "2  Regular  Red  \n",
       "3  Regular  Red  \n",
       "4  Regular  Red  "
      ]
     },
     "execution_count": 11,
     "metadata": {},
     "output_type": "execute_result"
    }
   ],
   "source": [
    "df.head()"
   ]
  },
  {
   "cell_type": "code",
   "execution_count": 12,
   "id": "f6fa32b9",
   "metadata": {},
   "outputs": [
    {
     "data": {
      "text/plain": [
       "Index(['Data Venda', 'Data Envio', 'ID Loja', 'ID Produto', 'ID Cliente',\n",
       "       'No. Venda', 'Custo Unitário', 'Preço Unitário', 'Quantidade',\n",
       "       'Valor Desconto', 'Valor Venda', 'Produto', 'Fabricante', 'Marca',\n",
       "       'Classe', 'Cor'],\n",
       "      dtype='object')"
      ]
     },
     "execution_count": 12,
     "metadata": {},
     "output_type": "execute_result"
    }
   ],
   "source": [
    "df.columns"
   ]
  },
  {
   "cell_type": "code",
   "execution_count": 13,
   "id": "f179c14b",
   "metadata": {},
   "outputs": [
    {
     "name": "stdout",
     "output_type": "stream",
     "text": [
      "<class 'pandas.core.frame.DataFrame'>\n",
      "RangeIndex: 904 entries, 0 to 903\n",
      "Data columns (total 16 columns):\n",
      " #   Column          Non-Null Count  Dtype         \n",
      "---  ------          --------------  -----         \n",
      " 0   Data Venda      904 non-null    datetime64[ns]\n",
      " 1   Data Envio      904 non-null    datetime64[ns]\n",
      " 2   ID Loja         904 non-null    int64         \n",
      " 3   ID Produto      904 non-null    int64         \n",
      " 4   ID Cliente      904 non-null    int64         \n",
      " 5   No. Venda       904 non-null    object        \n",
      " 6   Custo Unitário  904 non-null    float64       \n",
      " 7   Preço Unitário  904 non-null    float64       \n",
      " 8   Quantidade      904 non-null    int64         \n",
      " 9   Valor Desconto  904 non-null    float64       \n",
      " 10  Valor Venda     904 non-null    float64       \n",
      " 11  Produto         904 non-null    object        \n",
      " 12  Fabricante      904 non-null    object        \n",
      " 13  Marca           904 non-null    object        \n",
      " 14  Classe          904 non-null    object        \n",
      " 15  Cor             904 non-null    object        \n",
      "dtypes: datetime64[ns](2), float64(4), int64(4), object(6)\n",
      "memory usage: 113.1+ KB\n"
     ]
    }
   ],
   "source": [
    "df.info()"
   ]
  },
  {
   "cell_type": "code",
   "execution_count": 14,
   "id": "d0eb3db9",
   "metadata": {},
   "outputs": [
    {
     "data": {
      "text/plain": [
       "(904, 16)"
      ]
     },
     "execution_count": 14,
     "metadata": {},
     "output_type": "execute_result"
    }
   ],
   "source": [
    "df.shape"
   ]
  },
  {
   "cell_type": "code",
   "execution_count": 15,
   "id": "b7597835",
   "metadata": {},
   "outputs": [
    {
     "data": {
      "text/html": [
       "<div>\n",
       "<style scoped>\n",
       "    .dataframe tbody tr th:only-of-type {\n",
       "        vertical-align: middle;\n",
       "    }\n",
       "\n",
       "    .dataframe tbody tr th {\n",
       "        vertical-align: top;\n",
       "    }\n",
       "\n",
       "    .dataframe thead th {\n",
       "        text-align: right;\n",
       "    }\n",
       "</style>\n",
       "<table border=\"1\" class=\"dataframe\">\n",
       "  <thead>\n",
       "    <tr style=\"text-align: right;\">\n",
       "      <th></th>\n",
       "      <th>ID Loja</th>\n",
       "      <th>ID Produto</th>\n",
       "      <th>ID Cliente</th>\n",
       "      <th>Custo Unitário</th>\n",
       "      <th>Preço Unitário</th>\n",
       "      <th>Quantidade</th>\n",
       "      <th>Valor Desconto</th>\n",
       "      <th>Valor Venda</th>\n",
       "    </tr>\n",
       "  </thead>\n",
       "  <tbody>\n",
       "    <tr>\n",
       "      <th>count</th>\n",
       "      <td>904.000000</td>\n",
       "      <td>904.000000</td>\n",
       "      <td>904.000000</td>\n",
       "      <td>904.000000</td>\n",
       "      <td>904.000000</td>\n",
       "      <td>904.000000</td>\n",
       "      <td>904.000000</td>\n",
       "      <td>904.000000</td>\n",
       "    </tr>\n",
       "    <tr>\n",
       "      <th>mean</th>\n",
       "      <td>270.015487</td>\n",
       "      <td>1225.238938</td>\n",
       "      <td>19029.092920</td>\n",
       "      <td>272.006150</td>\n",
       "      <td>742.527965</td>\n",
       "      <td>62.950221</td>\n",
       "      <td>689.123294</td>\n",
       "      <td>6620.139538</td>\n",
       "    </tr>\n",
       "    <tr>\n",
       "      <th>std</th>\n",
       "      <td>50.955280</td>\n",
       "      <td>706.698742</td>\n",
       "      <td>96.427655</td>\n",
       "      <td>129.765051</td>\n",
       "      <td>368.589889</td>\n",
       "      <td>148.945964</td>\n",
       "      <td>822.363117</td>\n",
       "      <td>4319.407257</td>\n",
       "    </tr>\n",
       "    <tr>\n",
       "      <th>min</th>\n",
       "      <td>199.000000</td>\n",
       "      <td>366.000000</td>\n",
       "      <td>18815.000000</td>\n",
       "      <td>5.090000</td>\n",
       "      <td>9.990000</td>\n",
       "      <td>2.000000</td>\n",
       "      <td>0.000000</td>\n",
       "      <td>159.840000</td>\n",
       "    </tr>\n",
       "    <tr>\n",
       "      <th>25%</th>\n",
       "      <td>199.000000</td>\n",
       "      <td>384.000000</td>\n",
       "      <td>18964.750000</td>\n",
       "      <td>324.690000</td>\n",
       "      <td>758.000000</td>\n",
       "      <td>6.000000</td>\n",
       "      <td>0.000000</td>\n",
       "      <td>3920.000000</td>\n",
       "    </tr>\n",
       "    <tr>\n",
       "      <th>50%</th>\n",
       "      <td>306.000000</td>\n",
       "      <td>1202.000000</td>\n",
       "      <td>19060.000000</td>\n",
       "      <td>330.660000</td>\n",
       "      <td>980.000000</td>\n",
       "      <td>9.000000</td>\n",
       "      <td>461.166000</td>\n",
       "      <td>5798.700000</td>\n",
       "    </tr>\n",
       "    <tr>\n",
       "      <th>75%</th>\n",
       "      <td>307.000000</td>\n",
       "      <td>1226.000000</td>\n",
       "      <td>19107.000000</td>\n",
       "      <td>348.580000</td>\n",
       "      <td>998.000000</td>\n",
       "      <td>17.000000</td>\n",
       "      <td>1005.075000</td>\n",
       "      <td>7986.000000</td>\n",
       "    </tr>\n",
       "    <tr>\n",
       "      <th>max</th>\n",
       "      <td>307.000000</td>\n",
       "      <td>2497.000000</td>\n",
       "      <td>19145.000000</td>\n",
       "      <td>348.580000</td>\n",
       "      <td>999.000000</td>\n",
       "      <td>1560.000000</td>\n",
       "      <td>6272.000000</td>\n",
       "      <td>29400.000000</td>\n",
       "    </tr>\n",
       "  </tbody>\n",
       "</table>\n",
       "</div>"
      ],
      "text/plain": [
       "          ID Loja   ID Produto    ID Cliente  Custo Unitário  Preço Unitário  \\\n",
       "count  904.000000   904.000000    904.000000      904.000000      904.000000   \n",
       "mean   270.015487  1225.238938  19029.092920      272.006150      742.527965   \n",
       "std     50.955280   706.698742     96.427655      129.765051      368.589889   \n",
       "min    199.000000   366.000000  18815.000000        5.090000        9.990000   \n",
       "25%    199.000000   384.000000  18964.750000      324.690000      758.000000   \n",
       "50%    306.000000  1202.000000  19060.000000      330.660000      980.000000   \n",
       "75%    307.000000  1226.000000  19107.000000      348.580000      998.000000   \n",
       "max    307.000000  2497.000000  19145.000000      348.580000      999.000000   \n",
       "\n",
       "        Quantidade  Valor Desconto   Valor Venda  \n",
       "count   904.000000      904.000000    904.000000  \n",
       "mean     62.950221      689.123294   6620.139538  \n",
       "std     148.945964      822.363117   4319.407257  \n",
       "min       2.000000        0.000000    159.840000  \n",
       "25%       6.000000        0.000000   3920.000000  \n",
       "50%       9.000000      461.166000   5798.700000  \n",
       "75%      17.000000     1005.075000   7986.000000  \n",
       "max    1560.000000     6272.000000  29400.000000  "
      ]
     },
     "execution_count": 15,
     "metadata": {},
     "output_type": "execute_result"
    }
   ],
   "source": [
    "df.describe()"
   ]
  },
  {
   "cell_type": "code",
   "execution_count": 19,
   "id": "67152628",
   "metadata": {},
   "outputs": [
    {
     "data": {
      "text/plain": [
       "Data Venda        0\n",
       "Data Envio        0\n",
       "ID Loja           0\n",
       "ID Produto        0\n",
       "ID Cliente        0\n",
       "No. Venda         0\n",
       "Custo Unitário    0\n",
       "Preço Unitário    0\n",
       "Quantidade        0\n",
       "Valor Desconto    0\n",
       "Valor Venda       0\n",
       "Produto           0\n",
       "Fabricante        0\n",
       "Marca             0\n",
       "Classe            0\n",
       "Cor               0\n",
       "dtype: int64"
      ]
     },
     "execution_count": 19,
     "metadata": {},
     "output_type": "execute_result"
    }
   ],
   "source": [
    "df.isna().sum()"
   ]
  },
  {
   "cell_type": "code",
   "execution_count": 20,
   "id": "98ede946",
   "metadata": {},
   "outputs": [],
   "source": [
    "df['Dias de Envio'] = df['Data Envio'] - df['Data Venda']"
   ]
  },
  {
   "cell_type": "code",
   "execution_count": 21,
   "id": "7d943d0f",
   "metadata": {},
   "outputs": [],
   "source": [
    "df['Custo Total'] = df['Custo Unitário'] * df['Quantidade']"
   ]
  },
  {
   "cell_type": "code",
   "execution_count": 22,
   "id": "440f0c6c",
   "metadata": {},
   "outputs": [],
   "source": [
    "df['Lucro Bruto'] = df['Valor Venda'] - df['Custo Total']"
   ]
  },
  {
   "cell_type": "code",
   "execution_count": 23,
   "id": "48dbb4dd",
   "metadata": {},
   "outputs": [],
   "source": [
    "df['Lucro Líquido'] = df['Lucro Bruto'] - df['Valor Desconto']"
   ]
  },
  {
   "cell_type": "code",
   "execution_count": 24,
   "id": "832c4fae",
   "metadata": {},
   "outputs": [],
   "source": [
    "df['% Lucro Bruto'] = (1 - (df['Custo Total'] / df['Valor Venda'])) * 100"
   ]
  },
  {
   "cell_type": "code",
   "execution_count": 25,
   "id": "382e4522",
   "metadata": {},
   "outputs": [],
   "source": [
    "df['% Lucro Líquido'] = (1 - (df['Custo Total'] / (df['Valor Venda'] - df['Valor Desconto']))) * 100"
   ]
  },
  {
   "cell_type": "code",
   "execution_count": 26,
   "id": "a44e6e76",
   "metadata": {},
   "outputs": [
    {
     "name": "stdout",
     "output_type": "stream",
     "text": [
      "<class 'pandas.core.frame.DataFrame'>\n",
      "RangeIndex: 904 entries, 0 to 903\n",
      "Data columns (total 22 columns):\n",
      " #   Column           Non-Null Count  Dtype          \n",
      "---  ------           --------------  -----          \n",
      " 0   Data Venda       904 non-null    datetime64[ns] \n",
      " 1   Data Envio       904 non-null    datetime64[ns] \n",
      " 2   ID Loja          904 non-null    int64          \n",
      " 3   ID Produto       904 non-null    int64          \n",
      " 4   ID Cliente       904 non-null    int64          \n",
      " 5   No. Venda        904 non-null    object         \n",
      " 6   Custo Unitário   904 non-null    float64        \n",
      " 7   Preço Unitário   904 non-null    float64        \n",
      " 8   Quantidade       904 non-null    int64          \n",
      " 9   Valor Desconto   904 non-null    float64        \n",
      " 10  Valor Venda      904 non-null    float64        \n",
      " 11  Produto          904 non-null    object         \n",
      " 12  Fabricante       904 non-null    object         \n",
      " 13  Marca            904 non-null    object         \n",
      " 14  Classe           904 non-null    object         \n",
      " 15  Cor              904 non-null    object         \n",
      " 16  Dias de Envio    904 non-null    timedelta64[ns]\n",
      " 17  Custo Total      904 non-null    float64        \n",
      " 18  Lucro Bruto      904 non-null    float64        \n",
      " 19  Lucro Líquido    904 non-null    float64        \n",
      " 20  % Lucro Bruto    904 non-null    float64        \n",
      " 21  % Lucro Líquido  904 non-null    float64        \n",
      "dtypes: datetime64[ns](2), float64(9), int64(4), object(6), timedelta64[ns](1)\n",
      "memory usage: 155.5+ KB\n"
     ]
    }
   ],
   "source": [
    "df.info()"
   ]
  },
  {
   "cell_type": "code",
   "execution_count": 27,
   "id": "40c99614",
   "metadata": {},
   "outputs": [
    {
     "data": {
      "text/html": [
       "<div>\n",
       "<style scoped>\n",
       "    .dataframe tbody tr th:only-of-type {\n",
       "        vertical-align: middle;\n",
       "    }\n",
       "\n",
       "    .dataframe tbody tr th {\n",
       "        vertical-align: top;\n",
       "    }\n",
       "\n",
       "    .dataframe thead th {\n",
       "        text-align: right;\n",
       "    }\n",
       "</style>\n",
       "<table border=\"1\" class=\"dataframe\">\n",
       "  <thead>\n",
       "    <tr style=\"text-align: right;\">\n",
       "      <th></th>\n",
       "      <th>Data Venda</th>\n",
       "      <th>Data Envio</th>\n",
       "      <th>ID Loja</th>\n",
       "      <th>ID Produto</th>\n",
       "      <th>ID Cliente</th>\n",
       "      <th>No. Venda</th>\n",
       "      <th>Custo Unitário</th>\n",
       "      <th>Preço Unitário</th>\n",
       "      <th>Quantidade</th>\n",
       "      <th>Valor Desconto</th>\n",
       "      <th>...</th>\n",
       "      <th>Fabricante</th>\n",
       "      <th>Marca</th>\n",
       "      <th>Classe</th>\n",
       "      <th>Cor</th>\n",
       "      <th>Dias de Envio</th>\n",
       "      <th>Custo Total</th>\n",
       "      <th>Lucro Bruto</th>\n",
       "      <th>Lucro Líquido</th>\n",
       "      <th>% Lucro Bruto</th>\n",
       "      <th>% Lucro Líquido</th>\n",
       "    </tr>\n",
       "  </thead>\n",
       "  <tbody>\n",
       "    <tr>\n",
       "      <th>0</th>\n",
       "      <td>2008-05-09</td>\n",
       "      <td>2008-05-29</td>\n",
       "      <td>199</td>\n",
       "      <td>384</td>\n",
       "      <td>18839</td>\n",
       "      <td>200805093CS607</td>\n",
       "      <td>348.58</td>\n",
       "      <td>758.0</td>\n",
       "      <td>6</td>\n",
       "      <td>0.0</td>\n",
       "      <td>...</td>\n",
       "      <td>Adventure Works</td>\n",
       "      <td>Adventure Works</td>\n",
       "      <td>Regular</td>\n",
       "      <td>Red</td>\n",
       "      <td>20 days</td>\n",
       "      <td>2091.48</td>\n",
       "      <td>2456.52</td>\n",
       "      <td>2456.52</td>\n",
       "      <td>54.013193</td>\n",
       "      <td>54.013193</td>\n",
       "    </tr>\n",
       "    <tr>\n",
       "      <th>1</th>\n",
       "      <td>2008-05-12</td>\n",
       "      <td>2008-05-17</td>\n",
       "      <td>306</td>\n",
       "      <td>384</td>\n",
       "      <td>19051</td>\n",
       "      <td>200805123CS567</td>\n",
       "      <td>348.58</td>\n",
       "      <td>758.0</td>\n",
       "      <td>6</td>\n",
       "      <td>0.0</td>\n",
       "      <td>...</td>\n",
       "      <td>Adventure Works</td>\n",
       "      <td>Adventure Works</td>\n",
       "      <td>Regular</td>\n",
       "      <td>Red</td>\n",
       "      <td>5 days</td>\n",
       "      <td>2091.48</td>\n",
       "      <td>2456.52</td>\n",
       "      <td>2456.52</td>\n",
       "      <td>54.013193</td>\n",
       "      <td>54.013193</td>\n",
       "    </tr>\n",
       "    <tr>\n",
       "      <th>2</th>\n",
       "      <td>2008-05-14</td>\n",
       "      <td>2008-05-20</td>\n",
       "      <td>306</td>\n",
       "      <td>384</td>\n",
       "      <td>19052</td>\n",
       "      <td>200805143CS576</td>\n",
       "      <td>348.58</td>\n",
       "      <td>758.0</td>\n",
       "      <td>6</td>\n",
       "      <td>0.0</td>\n",
       "      <td>...</td>\n",
       "      <td>Adventure Works</td>\n",
       "      <td>Adventure Works</td>\n",
       "      <td>Regular</td>\n",
       "      <td>Red</td>\n",
       "      <td>6 days</td>\n",
       "      <td>2091.48</td>\n",
       "      <td>2456.52</td>\n",
       "      <td>2456.52</td>\n",
       "      <td>54.013193</td>\n",
       "      <td>54.013193</td>\n",
       "    </tr>\n",
       "    <tr>\n",
       "      <th>3</th>\n",
       "      <td>2008-05-21</td>\n",
       "      <td>2008-05-27</td>\n",
       "      <td>306</td>\n",
       "      <td>384</td>\n",
       "      <td>19052</td>\n",
       "      <td>200805213CS576</td>\n",
       "      <td>348.58</td>\n",
       "      <td>758.0</td>\n",
       "      <td>6</td>\n",
       "      <td>0.0</td>\n",
       "      <td>...</td>\n",
       "      <td>Adventure Works</td>\n",
       "      <td>Adventure Works</td>\n",
       "      <td>Regular</td>\n",
       "      <td>Red</td>\n",
       "      <td>6 days</td>\n",
       "      <td>2091.48</td>\n",
       "      <td>2456.52</td>\n",
       "      <td>2456.52</td>\n",
       "      <td>54.013193</td>\n",
       "      <td>54.013193</td>\n",
       "    </tr>\n",
       "    <tr>\n",
       "      <th>4</th>\n",
       "      <td>2008-06-20</td>\n",
       "      <td>2008-06-27</td>\n",
       "      <td>306</td>\n",
       "      <td>384</td>\n",
       "      <td>19053</td>\n",
       "      <td>200806203CS586</td>\n",
       "      <td>348.58</td>\n",
       "      <td>758.0</td>\n",
       "      <td>6</td>\n",
       "      <td>0.0</td>\n",
       "      <td>...</td>\n",
       "      <td>Adventure Works</td>\n",
       "      <td>Adventure Works</td>\n",
       "      <td>Regular</td>\n",
       "      <td>Red</td>\n",
       "      <td>7 days</td>\n",
       "      <td>2091.48</td>\n",
       "      <td>2456.52</td>\n",
       "      <td>2456.52</td>\n",
       "      <td>54.013193</td>\n",
       "      <td>54.013193</td>\n",
       "    </tr>\n",
       "  </tbody>\n",
       "</table>\n",
       "<p>5 rows × 22 columns</p>\n",
       "</div>"
      ],
      "text/plain": [
       "  Data Venda Data Envio  ID Loja  ID Produto  ID Cliente       No. Venda  \\\n",
       "0 2008-05-09 2008-05-29      199         384       18839  200805093CS607   \n",
       "1 2008-05-12 2008-05-17      306         384       19051  200805123CS567   \n",
       "2 2008-05-14 2008-05-20      306         384       19052  200805143CS576   \n",
       "3 2008-05-21 2008-05-27      306         384       19052  200805213CS576   \n",
       "4 2008-06-20 2008-06-27      306         384       19053  200806203CS586   \n",
       "\n",
       "   Custo Unitário  Preço Unitário  Quantidade  Valor Desconto  ...  \\\n",
       "0          348.58           758.0           6             0.0  ...   \n",
       "1          348.58           758.0           6             0.0  ...   \n",
       "2          348.58           758.0           6             0.0  ...   \n",
       "3          348.58           758.0           6             0.0  ...   \n",
       "4          348.58           758.0           6             0.0  ...   \n",
       "\n",
       "        Fabricante            Marca   Classe  Cor Dias de Envio Custo Total  \\\n",
       "0  Adventure Works  Adventure Works  Regular  Red       20 days     2091.48   \n",
       "1  Adventure Works  Adventure Works  Regular  Red        5 days     2091.48   \n",
       "2  Adventure Works  Adventure Works  Regular  Red        6 days     2091.48   \n",
       "3  Adventure Works  Adventure Works  Regular  Red        6 days     2091.48   \n",
       "4  Adventure Works  Adventure Works  Regular  Red        7 days     2091.48   \n",
       "\n",
       "  Lucro Bruto  Lucro Líquido  % Lucro Bruto  % Lucro Líquido  \n",
       "0     2456.52        2456.52      54.013193        54.013193  \n",
       "1     2456.52        2456.52      54.013193        54.013193  \n",
       "2     2456.52        2456.52      54.013193        54.013193  \n",
       "3     2456.52        2456.52      54.013193        54.013193  \n",
       "4     2456.52        2456.52      54.013193        54.013193  \n",
       "\n",
       "[5 rows x 22 columns]"
      ]
     },
     "execution_count": 27,
     "metadata": {},
     "output_type": "execute_result"
    }
   ],
   "source": [
    "df.head()"
   ]
  },
  {
   "cell_type": "code",
   "execution_count": 28,
   "id": "0e990043",
   "metadata": {},
   "outputs": [
    {
     "data": {
      "text/plain": [
       "Adventure Works Laptop15.4W M1548 Black            123\n",
       "Fabrikam Trendsetter 2/3'' 17mm X100 Grey          118\n",
       "Adventure Works Laptop15.4W M1548 Red              115\n",
       "Fabrikam Trendsetter 2/3'' 17mm X100 Black         103\n",
       "Fabrikam Trendsetter 1/3'' 8.5mm X200 Grey          94\n",
       "Fabrikam Trendsetter 1/3'' 8.5mm X200 White         90\n",
       "Fabrikam Trendsetter 1/3'' 8.5mm X200 Black         89\n",
       "Headphone Adapter for Contoso Phone E130 Silver     87\n",
       "Headphone Adapter for Contoso Phone E130 White      85\n",
       "Name: Produto, dtype: int64"
      ]
     },
     "execution_count": 28,
     "metadata": {},
     "output_type": "execute_result"
    }
   ],
   "source": [
    "df['Produto'].value_counts()"
   ]
  },
  {
   "cell_type": "code",
   "execution_count": 30,
   "id": "6bdae66a",
   "metadata": {},
   "outputs": [
    {
     "data": {
      "text/plain": [
       "Produto\n",
       "Headphone Adapter for Contoso Phone E130 Silver    25232\n",
       "Headphone Adapter for Contoso Phone E130 White     25008\n",
       "Adventure Works Laptop15.4W M1548 Black             1089\n",
       "Fabrikam Trendsetter 2/3'' 17mm X100 Grey           1087\n",
       "Adventure Works Laptop15.4W M1548 Red               1047\n",
       "Fabrikam Trendsetter 2/3'' 17mm X100 Black           926\n",
       "Fabrikam Trendsetter 1/3'' 8.5mm X200 Black          884\n",
       "Fabrikam Trendsetter 1/3'' 8.5mm X200 Grey           845\n",
       "Fabrikam Trendsetter 1/3'' 8.5mm X200 White          789\n",
       "Name: Quantidade, dtype: int64"
      ]
     },
     "execution_count": 30,
     "metadata": {},
     "output_type": "execute_result"
    }
   ],
   "source": [
    "df.groupby('Produto')['Quantidade'].sum().sort_values(ascending=False)"
   ]
  },
  {
   "cell_type": "code",
   "execution_count": 31,
   "id": "028f4739",
   "metadata": {},
   "outputs": [
    {
     "data": {
      "text/plain": [
       "array([199, 306, 307], dtype=int64)"
      ]
     },
     "execution_count": 31,
     "metadata": {},
     "output_type": "execute_result"
    }
   ],
   "source": [
    "df['ID Loja'].unique()"
   ]
  },
  {
   "cell_type": "code",
   "execution_count": 35,
   "id": "e6e12ef4",
   "metadata": {},
   "outputs": [
    {
     "data": {
      "text/plain": [
       "3"
      ]
     },
     "execution_count": 35,
     "metadata": {},
     "output_type": "execute_result"
    }
   ],
   "source": [
    "len(df['ID Loja'].unique())"
   ]
  },
  {
   "cell_type": "code",
   "execution_count": 36,
   "id": "584af8b4",
   "metadata": {},
   "outputs": [
    {
     "data": {
      "text/plain": [
       "307    319\n",
       "199    307\n",
       "306    278\n",
       "Name: ID Loja, dtype: int64"
      ]
     },
     "execution_count": 36,
     "metadata": {},
     "output_type": "execute_result"
    }
   ],
   "source": [
    "df['ID Loja'].value_counts()"
   ]
  },
  {
   "cell_type": "code",
   "execution_count": 37,
   "id": "4ea50ed9",
   "metadata": {},
   "outputs": [
    {
     "data": {
      "text/plain": [
       "Timestamp('2008-01-02 00:00:00')"
      ]
     },
     "execution_count": 37,
     "metadata": {},
     "output_type": "execute_result"
    }
   ],
   "source": [
    "df['Data Venda'].min()"
   ]
  },
  {
   "cell_type": "code",
   "execution_count": 38,
   "id": "739438f9",
   "metadata": {},
   "outputs": [
    {
     "data": {
      "text/plain": [
       "Timestamp('2009-12-31 00:00:00')"
      ]
     },
     "execution_count": 38,
     "metadata": {},
     "output_type": "execute_result"
    }
   ],
   "source": [
    "df['Data Venda'].max()"
   ]
  },
  {
   "cell_type": "code",
   "execution_count": 39,
   "id": "b2acb0a6",
   "metadata": {},
   "outputs": [
    {
     "data": {
      "text/html": [
       "<div>\n",
       "<style scoped>\n",
       "    .dataframe tbody tr th:only-of-type {\n",
       "        vertical-align: middle;\n",
       "    }\n",
       "\n",
       "    .dataframe tbody tr th {\n",
       "        vertical-align: top;\n",
       "    }\n",
       "\n",
       "    .dataframe thead th {\n",
       "        text-align: right;\n",
       "    }\n",
       "</style>\n",
       "<table border=\"1\" class=\"dataframe\">\n",
       "  <thead>\n",
       "    <tr style=\"text-align: right;\">\n",
       "      <th></th>\n",
       "      <th>Valor Desconto</th>\n",
       "      <th>Valor Venda</th>\n",
       "      <th>Custo Total</th>\n",
       "      <th>Lucro Bruto</th>\n",
       "      <th>Lucro Líquido</th>\n",
       "      <th>% Lucro Bruto</th>\n",
       "      <th>% Lucro Líquido</th>\n",
       "    </tr>\n",
       "    <tr>\n",
       "      <th>Produto</th>\n",
       "      <th></th>\n",
       "      <th></th>\n",
       "      <th></th>\n",
       "      <th></th>\n",
       "      <th></th>\n",
       "      <th></th>\n",
       "      <th></th>\n",
       "    </tr>\n",
       "  </thead>\n",
       "  <tbody>\n",
       "    <tr>\n",
       "      <th>Adventure Works Laptop15.4W M1548 Black</th>\n",
       "      <td>639.616423</td>\n",
       "      <td>6071.456748</td>\n",
       "      <td>3086.208293</td>\n",
       "      <td>2985.248455</td>\n",
       "      <td>2345.632033</td>\n",
       "      <td>48.535883</td>\n",
       "      <td>40.090469</td>\n",
       "    </tr>\n",
       "    <tr>\n",
       "      <th>Adventure Works Laptop15.4W M1548 Red</th>\n",
       "      <td>728.800522</td>\n",
       "      <td>6172.295130</td>\n",
       "      <td>3173.593565</td>\n",
       "      <td>2998.701565</td>\n",
       "      <td>2269.901043</td>\n",
       "      <td>48.381596</td>\n",
       "      <td>39.832728</td>\n",
       "    </tr>\n",
       "    <tr>\n",
       "      <th>Fabrikam Trendsetter 1/3'' 8.5mm X200 Black</th>\n",
       "      <td>936.029326</td>\n",
       "      <td>8986.622360</td>\n",
       "      <td>3287.586067</td>\n",
       "      <td>5699.036292</td>\n",
       "      <td>4763.006966</td>\n",
       "      <td>63.136235</td>\n",
       "      <td>57.524054</td>\n",
       "    </tr>\n",
       "    <tr>\n",
       "      <th>Fabrikam Trendsetter 1/3'' 8.5mm X200 Grey</th>\n",
       "      <td>659.317021</td>\n",
       "      <td>8312.065957</td>\n",
       "      <td>2972.422340</td>\n",
       "      <td>5339.643617</td>\n",
       "      <td>4680.326596</td>\n",
       "      <td>63.730700</td>\n",
       "      <td>58.925853</td>\n",
       "    </tr>\n",
       "    <tr>\n",
       "      <th>Fabrikam Trendsetter 1/3'' 8.5mm X200 White</th>\n",
       "      <td>815.476889</td>\n",
       "      <td>7933.656444</td>\n",
       "      <td>2898.786000</td>\n",
       "      <td>5034.870444</td>\n",
       "      <td>4219.393556</td>\n",
       "      <td>63.295974</td>\n",
       "      <td>57.783949</td>\n",
       "    </tr>\n",
       "    <tr>\n",
       "      <th>Fabrikam Trendsetter 2/3'' 17mm X100 Black</th>\n",
       "      <td>835.759223</td>\n",
       "      <td>7974.726214</td>\n",
       "      <td>2919.057670</td>\n",
       "      <td>5055.668544</td>\n",
       "      <td>4219.909320</td>\n",
       "      <td>63.380356</td>\n",
       "      <td>58.038870</td>\n",
       "    </tr>\n",
       "    <tr>\n",
       "      <th>Fabrikam Trendsetter 2/3'' 17mm X100 Grey</th>\n",
       "      <td>883.245763</td>\n",
       "      <td>8144.381356</td>\n",
       "      <td>2991.000254</td>\n",
       "      <td>5153.381102</td>\n",
       "      <td>4270.135339</td>\n",
       "      <td>62.819290</td>\n",
       "      <td>56.522933</td>\n",
       "    </tr>\n",
       "    <tr>\n",
       "      <th>Headphone Adapter for Contoso Phone E130 Silver</th>\n",
       "      <td>292.831014</td>\n",
       "      <td>2604.498641</td>\n",
       "      <td>1476.217011</td>\n",
       "      <td>1128.281630</td>\n",
       "      <td>835.450616</td>\n",
       "      <td>42.636315</td>\n",
       "      <td>32.660230</td>\n",
       "    </tr>\n",
       "    <tr>\n",
       "      <th>Headphone Adapter for Contoso Phone E130 White</th>\n",
       "      <td>306.173520</td>\n",
       "      <td>2633.002009</td>\n",
       "      <td>1497.537882</td>\n",
       "      <td>1135.464127</td>\n",
       "      <td>829.290607</td>\n",
       "      <td>42.936747</td>\n",
       "      <td>33.856421</td>\n",
       "    </tr>\n",
       "  </tbody>\n",
       "</table>\n",
       "</div>"
      ],
      "text/plain": [
       "                                                 Valor Desconto  Valor Venda  \\\n",
       "Produto                                                                        \n",
       "Adventure Works Laptop15.4W M1548 Black              639.616423  6071.456748   \n",
       "Adventure Works Laptop15.4W M1548 Red                728.800522  6172.295130   \n",
       "Fabrikam Trendsetter 1/3'' 8.5mm X200 Black          936.029326  8986.622360   \n",
       "Fabrikam Trendsetter 1/3'' 8.5mm X200 Grey           659.317021  8312.065957   \n",
       "Fabrikam Trendsetter 1/3'' 8.5mm X200 White          815.476889  7933.656444   \n",
       "Fabrikam Trendsetter 2/3'' 17mm X100 Black           835.759223  7974.726214   \n",
       "Fabrikam Trendsetter 2/3'' 17mm X100 Grey            883.245763  8144.381356   \n",
       "Headphone Adapter for Contoso Phone E130 Silver      292.831014  2604.498641   \n",
       "Headphone Adapter for Contoso Phone E130 White       306.173520  2633.002009   \n",
       "\n",
       "                                                 Custo Total  Lucro Bruto  \\\n",
       "Produto                                                                     \n",
       "Adventure Works Laptop15.4W M1548 Black          3086.208293  2985.248455   \n",
       "Adventure Works Laptop15.4W M1548 Red            3173.593565  2998.701565   \n",
       "Fabrikam Trendsetter 1/3'' 8.5mm X200 Black      3287.586067  5699.036292   \n",
       "Fabrikam Trendsetter 1/3'' 8.5mm X200 Grey       2972.422340  5339.643617   \n",
       "Fabrikam Trendsetter 1/3'' 8.5mm X200 White      2898.786000  5034.870444   \n",
       "Fabrikam Trendsetter 2/3'' 17mm X100 Black       2919.057670  5055.668544   \n",
       "Fabrikam Trendsetter 2/3'' 17mm X100 Grey        2991.000254  5153.381102   \n",
       "Headphone Adapter for Contoso Phone E130 Silver  1476.217011  1128.281630   \n",
       "Headphone Adapter for Contoso Phone E130 White   1497.537882  1135.464127   \n",
       "\n",
       "                                                 Lucro Líquido  % Lucro Bruto  \\\n",
       "Produto                                                                         \n",
       "Adventure Works Laptop15.4W M1548 Black            2345.632033      48.535883   \n",
       "Adventure Works Laptop15.4W M1548 Red              2269.901043      48.381596   \n",
       "Fabrikam Trendsetter 1/3'' 8.5mm X200 Black        4763.006966      63.136235   \n",
       "Fabrikam Trendsetter 1/3'' 8.5mm X200 Grey         4680.326596      63.730700   \n",
       "Fabrikam Trendsetter 1/3'' 8.5mm X200 White        4219.393556      63.295974   \n",
       "Fabrikam Trendsetter 2/3'' 17mm X100 Black         4219.909320      63.380356   \n",
       "Fabrikam Trendsetter 2/3'' 17mm X100 Grey          4270.135339      62.819290   \n",
       "Headphone Adapter for Contoso Phone E130 Silver     835.450616      42.636315   \n",
       "Headphone Adapter for Contoso Phone E130 White      829.290607      42.936747   \n",
       "\n",
       "                                                 % Lucro Líquido  \n",
       "Produto                                                           \n",
       "Adventure Works Laptop15.4W M1548 Black                40.090469  \n",
       "Adventure Works Laptop15.4W M1548 Red                  39.832728  \n",
       "Fabrikam Trendsetter 1/3'' 8.5mm X200 Black            57.524054  \n",
       "Fabrikam Trendsetter 1/3'' 8.5mm X200 Grey             58.925853  \n",
       "Fabrikam Trendsetter 1/3'' 8.5mm X200 White            57.783949  \n",
       "Fabrikam Trendsetter 2/3'' 17mm X100 Black             58.038870  \n",
       "Fabrikam Trendsetter 2/3'' 17mm X100 Grey              56.522933  \n",
       "Headphone Adapter for Contoso Phone E130 Silver        32.660230  \n",
       "Headphone Adapter for Contoso Phone E130 White         33.856421  "
      ]
     },
     "execution_count": 39,
     "metadata": {},
     "output_type": "execute_result"
    }
   ],
   "source": [
    "values = ['Produto', 'Valor Desconto', 'Valor Venda', \n",
    "           'Custo Total', 'Lucro Bruto', 'Lucro Líquido',\n",
    "           '% Lucro Bruto', '% Lucro Líquido']\n",
    "df[values].groupby('Produto').mean()"
   ]
  },
  {
   "cell_type": "code",
   "execution_count": 40,
   "id": "f182dcab",
   "metadata": {},
   "outputs": [],
   "source": [
    "total_descontos = df['Valor Desconto'].sum()\n",
    "total_vendas = df['Valor Venda'].sum()\n",
    "total_custos = df['Custo Total'].sum()\n",
    "total_lucro_bruto = df['Lucro Bruto'].sum()\n",
    "total_lucro_liquido = df['Lucro Líquido'].sum()"
   ]
  },
  {
   "cell_type": "code",
   "execution_count": 42,
   "id": "eb850cb6",
   "metadata": {},
   "outputs": [
    {
     "name": "stdout",
     "output_type": "stream",
     "text": [
      "Total de descontos foi ----> 622967.4574\n",
      "Total de vendas foi -------> 5984606.1426\n",
      "Total de custos foi -------> 2486783.05\n",
      "Lucro bruto foi -----------> 3497823.0926\n",
      "Lucro líquido foi ---------> 2874855.6352000004\n"
     ]
    }
   ],
   "source": [
    "print('Total de descontos foi ---->',total_descontos)\n",
    "print('Total de vendas foi ------->',total_vendas)\n",
    "print('Total de custos foi ------->',total_custos)\n",
    "print('Lucro bruto foi ----------->',total_lucro_bruto)\n",
    "print('Lucro líquido foi --------->',total_lucro_liquido)"
   ]
  },
  {
   "cell_type": "code",
   "execution_count": 50,
   "id": "a18c4b29",
   "metadata": {},
   "outputs": [],
   "source": [
    "plt.rcParams['figure.figsize'] = (10,6)\n",
    "plt.rcParams['xtick.labelsize'] = 10\n",
    "plt.rcParams['ytick.labelsize'] = 10\n",
    "plt.rcParams['font.size'] = 13\n",
    "plt.rcParams['axes.titlesize'] = 20"
   ]
  },
  {
   "cell_type": "code",
   "execution_count": 51,
   "id": "bafe1299",
   "metadata": {},
   "outputs": [
    {
     "data": {
      "image/png": "[encoded data removed]",
      "text/plain": [
       "<Figure size 720x432 with 1 Axes>"
      ]
     },
     "metadata": {
      "needs_background": "light"
     },
     "output_type": "display_data"
    }
   ],
   "source": [
    "sns.boxplot(x=df['Valor Venda'])\n",
    "plt.show()"
   ]
  },
  {
   "cell_type": "code",
   "execution_count": 59,
   "id": "0a7d8e4f",
   "metadata": {},
   "outputs": [
    {
     "data": {
      "image/png": "[encoded data removed]",
      "text/plain": [
       "<Figure size 720x432 with 1 Axes>"
      ]
     },
     "metadata": {
      "needs_background": "light"
     },
     "output_type": "display_data"
    }
   ],
   "source": [
    "x = df['Dias de Envio'].value_counts().values\n",
    "y = df['Dias de Envio'].value_counts().index\n",
    "sns.barplot( x=x, y=y ) \n",
    "plt.show()"
   ]
  },
  {
   "cell_type": "code",
   "execution_count": 60,
   "id": "48c0d759",
   "metadata": {},
   "outputs": [
    {
     "data": {
      "image/png": "[encoded data removed]",
      "text/plain": [
       "<Figure size 720x432 with 1 Axes>"
      ]
     },
     "metadata": {
      "needs_background": "light"
     },
     "output_type": "display_data"
    }
   ],
   "source": [
    "#Selecionando apenas as vendas de 2008\n",
    "df_2008 = df[df[\"Data Venda\"].dt.year == 2008]\n",
    "#Selecionando apenas as vendas de 2009\n",
    "df_2009 = df[df[\"Data Venda\"].dt.year == 2009]\n",
    "# Comparativo de lucro bruto por mês\n",
    "df_2008.groupby(df_2008[\"Data Venda\"].dt.month)[\"Lucro Bruto\"].sum().plot(color='red', label='Ano 2008')\n",
    "df_2009.groupby(df_2009[\"Data Venda\"].dt.month)[\"Lucro Bruto\"].sum().plot(color='green', label='Ano 2009')\n",
    "plt.title(\"Lucro x Mês\")\n",
    "plt.xlabel(\"Mês\")\n",
    "plt.ylabel(\"Lucro Bruto\")\n",
    "plt.legend()\n",
    "plt.show()"
   ]
  }
 ],
 "metadata": {
  "kernelspec": {
   "display_name": "Python 3 (ipykernel)",
   "language": "python",
   "name": "python3"
  },
  "language_info": {
   "codemirror_mode": {
    "name": "ipython",
    "version": 3
   },
   "file_extension": ".py",
   "mimetype": "text/x-python",
   "name": "python",
   "nbconvert_exporter": "python",
   "pygments_lexer": "ipython3",
   "version": "3.9.12"
  }
 },
 "nbformat": 4,
 "nbformat_minor": 5
}
